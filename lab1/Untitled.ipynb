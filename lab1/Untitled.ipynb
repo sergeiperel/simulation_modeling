{
 "cells": [
  {
   "cell_type": "code",
   "execution_count": 5,
   "id": "466e11d4",
   "metadata": {},
   "outputs": [
    {
     "name": "stdout",
     "output_type": "stream",
     "text": [
      "Вероятность выйграть в эту игру равна 0.5999879\n",
      "CPU times: total: 6.86 s\n",
      "Wall time: 6.85 s\n"
     ]
    }
   ],
   "source": [
    "%%time\n",
    "import random\n",
    "\n",
    "\n",
    "def disc1(pos):\n",
    "    win = 0\n",
    "    if pos <= p11:\n",
    "        disc1(random.random())\n",
    "    elif pos <= p12:\n",
    "        disc2(random.random())\n",
    "    else:\n",
    "        win = 1\n",
    "    return win\n",
    "\n",
    "\n",
    "def disc2(pos):\n",
    "    loss = 0\n",
    "    if pos <= p21:\n",
    "        disc1(random.random())\n",
    "    elif pos <= p22:\n",
    "        disc2(random.random())\n",
    "    else:\n",
    "        loss = 2\n",
    "    return loss\n",
    "\n",
    "\n",
    "n = N = 1000000\n",
    "p11, p12, p21, p22 = 0.2, 0.4, 0.3, 0.35\n",
    "k = 0\n",
    "\n",
    "while n != 0:\n",
    "    pos = random.random()\n",
    "    prob = disc1(pos)\n",
    "    if prob == 1:\n",
    "        k += 1\n",
    "    n -= 1\n",
    "print(\"Вероятность выйграть в эту игру равна \" + str(k/N))"
   ]
  },
  {
   "cell_type": "code",
   "execution_count": null,
   "id": "875aeed2",
   "metadata": {},
   "outputs": [],
   "source": []
  }
 ],
 "metadata": {
  "kernelspec": {
   "display_name": "Python 3 (ipykernel)",
   "language": "python",
   "name": "python3"
  },
  "language_info": {
   "codemirror_mode": {
    "name": "ipython",
    "version": 3
   },
   "file_extension": ".py",
   "mimetype": "text/x-python",
   "name": "python",
   "nbconvert_exporter": "python",
   "pygments_lexer": "ipython3",
   "version": "3.11.3"
  }
 },
 "nbformat": 4,
 "nbformat_minor": 5
}
